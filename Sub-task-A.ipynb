{
  "nbformat": 4,
  "nbformat_minor": 0,
  "metadata": {
    "accelerator": "GPU",
    "colab": {
      "name": "Sub-task-A.ipynb",
      "provenance": [],
      "collapsed_sections": [],
      "toc_visible": true
    },
    "kernelspec": {
      "display_name": "Python 3",
      "language": "python",
      "name": "python3"
    },
    "language_info": {
      "codemirror_mode": {
        "name": "ipython",
        "version": 3
      },
      "file_extension": ".py",
      "mimetype": "text/x-python",
      "name": "python",
      "nbconvert_exporter": "python",
      "pygments_lexer": "ipython3",
      "version": "3.7.3"
    }
  },
  "cells": [
    {
      "cell_type": "markdown",
      "metadata": {
        "id": "-vU__bqJCztJ"
      },
      "source": [
        "# SemEval 2021 Task 11 sub-task A"
      ]
    },
    {
      "cell_type": "code",
      "metadata": {
        "id": "vHMH-IwL5AEg"
      },
      "source": [
        "from google.colab import drive\n",
        "drive.mount('/content/drive')"
      ],
      "execution_count": null,
      "outputs": []
    },
    {
      "cell_type": "markdown",
      "metadata": {
        "id": "dl2DhfLynk4t"
      },
      "source": [
        "# Pre-processing Train and Valid\n"
      ]
    },
    {
      "cell_type": "code",
      "metadata": {
        "id": "SHn2zthZneJZ"
      },
      "source": [
        "!git clone https://github.com/ncg-task/training-data.git \"/content/train\""
      ],
      "execution_count": null,
      "outputs": []
    },
    {
      "cell_type": "code",
      "metadata": {
        "id": "xQUoQVxUneQV"
      },
      "source": [
        "#### Loading Training Data and store it\n",
        "input_dir = \"/content/train/\"\n",
        "import os\n",
        "import torch\n",
        "import numpy as np\n",
        "import time\n",
        "from torch.utils.data import Dataset, DataLoader\n",
        "from torch import cuda\n",
        "device = 'cuda' if cuda.is_available() else 'cpu'\n",
        "list_of_folders = [\"query_wellformedness\", \"passage_re-ranking\", \"part-of-speech_tagging\", \n",
        "         \"sentence_compression\", \"sentiment_analysis\", \"temporal_information_extraction\", \n",
        "         \"phrase_grounding\", \"text_generation\", \"text-to-speech_synthesis\", \n",
        "         \"smile_recognition\", \"topic_models\", \"question_generation\", \n",
        "         \"relation_extraction\", \"paraphrase_generation\", \"question_similarity\", \n",
        "         \"question_answering\", \"sentence_classification\", \"prosody_prediction\", \n",
        "         \"semantic_role_labeling\", \"text_summarization\", \"semantic_parsing\",\n",
        "         \"sarcasm_detection\", \"natural_language_inference\", \"negation_scope_resolution\"]\n",
        "input_stanza_list = []\n",
        "input_stanza_len = []\n",
        "input_sent_num_list = []\n",
        "file_name_list = []\n",
        "for fls in list_of_folders:\n",
        "  count=0\n",
        "  for i in os.listdir(input_dir + fls + '/'):\n",
        "    count=count+1\n",
        "    for files in os.listdir(input_dir + fls + '/' + str(i)):\n",
        "      if files.endswith(\"Stanza-out.txt\"):\n",
        "        stanza_file = open(input_dir + fls + '/' + str(i) + '/' + files, \"r\")\n",
        "        stanza_lines = stanza_file.read()\n",
        "        stanza_lines_list = list(filter(None,map(lambda x:x.lower(),stanza_lines.splitlines()))) # filter empty strings and split into lines\n",
        "        input_stanza_len.append(len(stanza_lines_list))\n",
        "        input_stanza_list.append(stanza_lines_list)\n",
        "      if files.endswith(\"sentences.txt\"):\n",
        "        sentence_file = open(input_dir + fls + '/' + str(i) + '/' + files, \"r\")\n",
        "        sentence_num_list = list(filter(None,sentence_file.read().splitlines())) # filter empty strings and split into lines\n",
        "        input_sent_num_list.append(sentence_num_list)\n",
        "    file_name_list.append(fls + '/' + str(i))\n",
        "  print(\"Training complete\",fls, count)"
      ],
      "execution_count": null,
      "outputs": []
    },
    {
      "cell_type": "code",
      "metadata": {
        "id": "ulLvgGfaneMU"
      },
      "source": [
        "!git clone https://github.com/ncg-task/trial-data.git \"/content/valid\""
      ],
      "execution_count": null,
      "outputs": []
    },
    {
      "cell_type": "code",
      "metadata": {
        "id": "jiHCPzo9neTj",
        "collapsed": true
      },
      "source": [
        "##### Loading valid dataset\n",
        "val_input_dir = \"/content/valid/\"\n",
        "val_list_of_folders = [\"machine-translation\", \"named-entity-recognition\", \"question-answering\",\n",
        "         \"relation-classification\", \"text-classification\"]\n",
        "val_input_stanza_list = []\n",
        "val_input_sent_num_list = []\n",
        "val_file_name_list = []\n",
        "val_input_stanza_len = []\n",
        "for fls in val_list_of_folders:\n",
        "  count=0\n",
        "  for i in os.listdir(val_input_dir + fls + '/'):\n",
        "    count=count+1\n",
        "    for files in os.listdir(val_input_dir + fls + '/' + str(i)):\n",
        "      if files.endswith(\"Stanza-out.txt\"):\n",
        "        stanza_file = open(val_input_dir + fls + '/' + str(i) + '/' + files, \"r\")\n",
        "        stanza_lines = stanza_file.read()\n",
        "        stanza_lines_list = list(filter(None, map(lambda x:x.lower(),stanza_lines.splitlines()))) # filter empty strings and split into lines\n",
        "        val_input_stanza_len.append(len(stanza_lines_list))\n",
        "        val_input_stanza_list.append(stanza_lines_list)\n",
        "      if files.endswith(\"sentences.txt\"):\n",
        "        sentence_file = open(val_input_dir + fls + '/' + str(i) + '/' + files, \"r\")\n",
        "        sentence_num_list = list(filter(None,sentence_file.read().splitlines())) # filter empty strings and split into lines\n",
        "        val_input_sent_num_list.append(sentence_num_list)\n",
        "    val_file_name_list.append(fls + '/' + str(i))\n",
        "  print(\"Valid complete\",fls,count)"
      ],
      "execution_count": null,
      "outputs": []
    },
    {
      "cell_type": "code",
      "metadata": {
        "id": "4sXzfj01neWj"
      },
      "source": [
        "#### string to int \n",
        "#### conversion for Train set\n",
        "input_sent_num_list = [[int(s) for s in sublist] for sublist in input_sent_num_list] # convert sentence list string to integer\n",
        "input_sent_num_list = [list(set(x)) for x in input_sent_num_list]\n",
        "\n",
        "#### conversion for Valid set\n",
        "val_input_sent_num_list = [[int(s) for s in sublist] for sublist in val_input_sent_num_list] # convert sentence list string to integer\n",
        "val_input_sent_num_list = [list(set(x)) for x in val_input_sent_num_list]"
      ],
      "execution_count": null,
      "outputs": []
    },
    {
      "cell_type": "code",
      "metadata": {
        "id": "myS8vvMKneYp"
      },
      "source": [
        "#### Ground truth label formation for classification\n",
        "#### Train set\n",
        "multihot_input_sent = []\n",
        "for i in range(len(input_stanza_list)):\n",
        "  temp =[0]*input_stanza_len[i]\n",
        "  for j in range(len(input_sent_num_list[i])):\n",
        "    t1 = input_sent_num_list[i][j] -1\n",
        "    temp[t1] = 1\n",
        "  multihot_input_sent.append(temp)\n",
        "#### valid set\n",
        "val_multihot_input_sent = []\n",
        "for i in range(len(val_input_stanza_list)):\n",
        "  temp =[0]*val_input_stanza_len[i]\n",
        "  for j in range(len(val_input_sent_num_list[i])):\n",
        "    t1 = val_input_sent_num_list[i][j] -1\n",
        "    temp[t1] = 1\n",
        "  val_multihot_input_sent.append(temp)"
      ],
      "execution_count": null,
      "outputs": []
    },
    {
      "cell_type": "code",
      "metadata": {
        "id": "9k8qTCGCnebN"
      },
      "source": [
        "## Function for flattening 2d list to 1d list\n",
        "from collections import Iterable\n",
        "def flatten(lis):\n",
        "  for item in lis:\n",
        "    if isinstance(item, Iterable) and not isinstance(item, str):\n",
        "      for x in flatten(item):\n",
        "        yield x\n",
        "    else:        \n",
        "      yield item"
      ],
      "execution_count": null,
      "outputs": []
    },
    {
      "cell_type": "code",
      "metadata": {
        "id": "yoBDQdi6962t"
      },
      "source": [
        "#### Flatten the list and use heuristic to remove vague sentences\n",
        "#### Train set\n",
        "from collections import Counter\n",
        "\n",
        "train_sentences = list(flatten(input_stanza_list))\n",
        "train_label = list(flatten(multihot_input_sent))\n",
        "\n",
        "train_tuple = list(set((zip(train_sentences,train_label))))\n",
        "train_in_sentences = []\n",
        "train_sent_label = []\n",
        "for stan,lab in train_tuple:\n",
        "  if len(stan) >4:\n",
        "    train_in_sentences.append(stan)\n",
        "    train_sent_label.append(lab)\n",
        "\n",
        "valid_sentences = list(flatten(val_input_stanza_list))\n",
        "valid_label = list(flatten(val_multihot_input_sent))\n",
        "\n",
        "valid_tuple = list(set((zip(valid_sentences,valid_label))))\n",
        "valid_in_sentences = []\n",
        "valid_sent_label = []\n",
        "for stan,lab in valid_tuple:\n",
        "  if len(stan) >4:\n",
        "    valid_in_sentences.append(stan)\n",
        "    valid_sent_label.append(lab)\n",
        "\n",
        "print(\"train size\",len(train_in_sentences),len(train_sent_label))\n",
        "print(\"valid size\",len(valid_in_sentences),len(valid_sent_label))"
      ],
      "execution_count": null,
      "outputs": []
    },
    {
      "cell_type": "code",
      "metadata": {
        "id": "42PQ_sbx-ACJ"
      },
      "source": [
        "#### Five timesOversampling of minority class in train set\n",
        "train_tuple = list(set((zip(train_in_sentences,train_sent_label))))\n",
        "train_sum_sent = 5 * [stan for stan,label in train_tuple if label==1]\n",
        "train_nonsum_sent = [stan for stan,label in train_tuple if label==0]\n",
        "train_in_sentences = train_sum_sent + train_nonsum_sent\n",
        "train_sent_label = len(train_sum_sent)*[1] + len(train_nonsum_sent)*[0]\n",
        "print(\"Oversampled train size\",len(train_in_sentences),len(train_sent_label))"
      ],
      "execution_count": null,
      "outputs": []
    },
    {
      "cell_type": "markdown",
      "metadata": {
        "id": "rbErQGLSg-hj"
      },
      "source": [
        "# Model Building"
      ]
    },
    {
      "cell_type": "code",
      "metadata": {
        "id": "9fbpM2vNnesV"
      },
      "source": [
        "!pip install -q transformers"
      ],
      "execution_count": null,
      "outputs": []
    },
    {
      "cell_type": "code",
      "metadata": {
        "id": "rPrbiW4Oneva"
      },
      "source": [
        "########### Library import and random seed\n",
        "import numpy as np\n",
        "from sklearn import metrics\n",
        "import transformers\n",
        "import torch\n",
        "import random\n",
        "from transformers import AutoTokenizer, AutoModel\n",
        "seed_val = 66\n",
        "random.seed(seed_val)\n",
        "np.random.seed(seed_val)\n",
        "torch.manual_seed(seed_val)\n",
        "torch.cuda.manual_seed_all(seed_val)"
      ],
      "execution_count": null,
      "outputs": []
    },
    {
      "cell_type": "code",
      "metadata": {
        "id": "oLjiB4FUnex2"
      },
      "source": [
        "#### Hyper-parameters for the model\n",
        "EPOCHS = 10\n",
        "LEARNING_RATE = 1e-05\n",
        "tokenizer = AutoTokenizer.from_pretrained('allenai/scibert_scivocab_uncased')\t\t\t\n",
        "MAX_LEN = 100\n",
        "TRAIN_BATCH_SIZE = 32\n",
        "VALID_BATCH_SIZE = 32"
      ],
      "execution_count": null,
      "outputs": []
    },
    {
      "cell_type": "code",
      "metadata": {
        "id": "cr6CpIL7ne0B"
      },
      "source": [
        "#### Create Dataset Loader\n",
        "class Triage(Dataset):\n",
        "    def __init__(self, data_in,data_out, tokenizer, max_len):\n",
        "        self.len = len(data_in)\n",
        "        self.data = data_in\n",
        "        self.tokenizer = tokenizer\n",
        "        self.max_len = max_len\n",
        "        self.label = data_out\n",
        "        \n",
        "    def __getitem__(self, index):\n",
        "        # title = str(self.data.TITLE[index])\n",
        "        # title = \" \".join(title.split())\n",
        "        title = self.data[index]\n",
        "        inputs = self.tokenizer.encode_plus(title,\n",
        "            None,add_special_tokens=True,\n",
        "            max_length=self.max_len,\n",
        "            pad_to_max_length=True,\n",
        "            return_token_type_ids=True,\n",
        "            truncation=True,\n",
        "            return_length = True\n",
        "        )\n",
        "        ids = inputs['input_ids']\n",
        "        mask = inputs['attention_mask']\n",
        "        token_type_ids = inputs['token_type_ids']\n",
        "        lengths = inputs['length']\n",
        "        return {\n",
        "            'ids': torch.tensor(ids, dtype=torch.long),\n",
        "            'mask': torch.tensor(mask, dtype=torch.long),\n",
        "            'token_type_ids': torch.tensor(token_type_ids, dtype=torch.long),\n",
        "            'lengths': torch.tensor(lengths, dtype=torch.long),\n",
        "            'targets': torch.tensor(self.label[index], dtype=torch.long)\n",
        "        } \n",
        "    \n",
        "    def __len__(self):\n",
        "      return self.len"
      ],
      "execution_count": null,
      "outputs": []
    },
    {
      "cell_type": "code",
      "metadata": {
        "id": "AKo03mC5ozYw"
      },
      "source": [
        "#### Train and Valid Loader \n",
        "training_set = Triage(train_in_sentences,train_sent_label, tokenizer, MAX_LEN)\n",
        "train_params = {'batch_size': TRAIN_BATCH_SIZE,'shuffle': True,'num_workers': 0}\n",
        "training_loader = DataLoader(training_set, **train_params)\n",
        "valid_set = Triage(valid_in_sentences,valid_sent_label, tokenizer, MAX_LEN)\n",
        "valid_params = {'batch_size': VALID_BATCH_SIZE,'shuffle': True,'num_workers': 0}\n",
        "valid_loader = DataLoader(valid_set, **valid_params)"
      ],
      "execution_count": null,
      "outputs": []
    },
    {
      "cell_type": "code",
      "metadata": {
        "id": "HnNnn2_2-HRn",
        "collapsed": true
      },
      "source": [
        "# Create a SciBERT + Bi-LSTM model for binary classification\n",
        "class SCIBERTClass(torch.nn.Module):\n",
        "    def __init__(self):\n",
        "        super(SCIBERTClass, self).__init__()\n",
        "        self.l1 = AutoModel.from_pretrained('allenai/scibert_scivocab_uncased',  output_hidden_states=True)\n",
        "        self.lstm = torch.nn.LSTM(768, 400, num_layers=2, batch_first = True, bidirectional=True)\n",
        "        self.l2 = torch.nn.Dropout(0.1)\n",
        "        self.l3 = torch.nn.Linear( 800, 400)\n",
        "        self.l4 = torch.nn.Linear(400,100) # check with layer with 30\n",
        "        self.l5 = torch.nn.Linear(100,2)\n",
        "    \n",
        "    def forward(self, ids, mask, token_type_ids, lengths):\n",
        "        encoded_layers = self.l1(ids, attention_mask = mask, token_type_ids = token_type_ids, return_dict=False)[2]\n",
        "        scibert_hidden_layer = encoded_layers[12]\n",
        "        enc_hiddens, (last_hidden, last_cell) = self.lstm(torch.nn.utils.rnn.pack_padded_sequence(scibert_hidden_layer, lengths, batch_first=True, enforce_sorted=False)) #enforce_sorted=False  #pack_padded_sequence(data and batch_sizes\n",
        "        output_hidden = torch.cat((last_hidden[0], last_hidden[1]), dim=1)  # (batch_size, 2*hidden_size)\n",
        "        output_hidden = self.l2(output_hidden)            # no size change\n",
        "        output_2 = self.l3(output_hidden)\n",
        "        output_2 = torch.nn.ReLU()(output_2)\n",
        "        output_4 = self.l4(output_2)\n",
        "        output_5 = self.l5(output_4)\n",
        "        return output_5\n",
        "\n",
        "model = SCIBERTClass()\n",
        "model.to(device)"
      ],
      "execution_count": null,
      "outputs": []
    },
    {
      "cell_type": "code",
      "metadata": {
        "id": "r8he3vdL-P3_"
      },
      "source": [
        "#### Optimizer, Loss function and evaluation metric\n",
        "optimizer = torch.optim.AdamW(params = model.parameters(), lr=LEARNING_RATE)\n",
        "c_weights = torch.tensor([list(Counter(train_sent_label).values())[0], list(Counter(train_sent_label).values())[1]], dtype=torch.float32).to(device)\n",
        "c_weights = 1.0/(c_weights/c_weights.sum())\n",
        "c_weights = c_weights/c_weights.sum()\n",
        "loss_function = torch.nn.CrossEntropyLoss(weight = c_weights)\n",
        "print(\"class weights\",c_weights)\n",
        "def calcuate_accu(big_idx, targets):\n",
        "  n_correct = torch.sum((big_idx==targets) * (targets==1)).item()\n",
        "  return n_correct\n",
        "def calculate_labels(targets):\n",
        "  return torch.sum(targets==1).item()"
      ],
      "execution_count": null,
      "outputs": []
    },
    {
      "cell_type": "code",
      "metadata": {
        "id": "5rH9RbecozkD"
      },
      "source": [
        "#### Train one epoch\n",
        "def train(epoch):\n",
        "    tr_loss = 0\n",
        "    n_correct = 0\n",
        "    nb_tr_steps = 0\n",
        "    nb_tr_examples = 0\n",
        "    n_predict = 0\n",
        "    n_ground = 0\n",
        "    model.train()\n",
        "    for _,data in enumerate(training_loader, 0):\n",
        "        ids = data['ids'].to(device, dtype = torch.long)\n",
        "        mask = data['mask'].to(device, dtype = torch.long)\n",
        "        token_type_ids = data['token_type_ids'].to(device, dtype = torch.long)\n",
        "        lengths = data['lengths'].squeeze(1)\n",
        "        targets = data['targets'].to(device, dtype = torch.long)\n",
        "        outputs = model(ids, mask,token_type_ids, lengths)\n",
        "        loss = loss_function(outputs, targets)\n",
        "        tr_loss += loss.item()\n",
        "        big_val, big_idx = torch.max(outputs.data, dim=1)\n",
        "        n_correct += calcuate_accu(big_idx, targets)\n",
        "        n_predict +=calculate_labels(big_idx)\n",
        "        n_ground +=calculate_labels(targets)\n",
        "        nb_tr_steps += 1\n",
        "        nb_tr_examples+=targets.size(0)\n",
        "        if _%1000==0:\n",
        "            loss_step = tr_loss/nb_tr_steps\n",
        "            accu_step = (n_correct*100)/nb_tr_examples \n",
        "            print(f\"Training Loss per 1000 steps: {loss_step}\")\n",
        "        optimizer.zero_grad()\n",
        "        loss.backward()\n",
        "        optimizer.step()\n",
        "    epoch_loss = tr_loss/nb_tr_steps\n",
        "    epoch_accu = (n_correct*100)/nb_tr_examples\n",
        "    print(f\"Training Accuracy Epoch {epoch}: {epoch_accu} and Loss: {epoch_loss}\")\n",
        "    P = n_correct/n_predict if n_predict else 0.0\n",
        "    R = n_correct/n_ground if n_ground else 0.0\n",
        "    F1 = (2*P*R)/(P+R) if P+R else 0.0\n",
        "    print(f\"Training P and R and F1 Epoch {epoch}: {P},{R}, {F1}\")\n",
        "    return"
      ],
      "execution_count": null,
      "outputs": []
    },
    {
      "cell_type": "code",
      "metadata": {
        "id": "H5pK1s_QozqX"
      },
      "source": [
        "#### Valid one epoch\n",
        "def valid(epoch,model, valid_loader):\n",
        "    model.eval()\n",
        "    tr_loss = 0\n",
        "    nb_tr_steps = 0\n",
        "    nb_tr_examples = 0\n",
        "    n_correct = 0\n",
        "    n_predict = 0\n",
        "    n_ground = 0\n",
        "    with torch.no_grad():\n",
        "        for _, data in enumerate(valid_loader, 0):\n",
        "            ids = data['ids'].to(device, dtype = torch.long)\n",
        "            mask = data['mask'].to(device, dtype = torch.long)\n",
        "            token_type_ids = data['token_type_ids'].to(device, dtype = torch.long)\n",
        "            lengths = data['lengths'].squeeze(1)\n",
        "            targets = data['targets'].to(device, dtype = torch.long)\n",
        "            outputs = model(ids, mask,token_type_ids, lengths)\n",
        "            loss = loss_function(outputs, targets)\n",
        "            tr_loss += loss.item()\n",
        "            big_val, big_idx = torch.max(outputs.data, dim=1)\n",
        "            n_correct += calcuate_accu(big_idx, targets)\n",
        "            n_predict +=calculate_labels(big_idx)\n",
        "            n_ground +=calculate_labels(targets)\n",
        "            nb_tr_steps += 1\n",
        "            nb_tr_examples+=targets.size(0)\n",
        "    epoch_loss = tr_loss/nb_tr_steps\n",
        "    epoch_accu = (n_correct*100)/nb_tr_examples\n",
        "    print(f\"Validation Accuracy Epoch {epoch}: {epoch_accu} and Loss: {epoch_loss}\")\n",
        "    P = n_correct/n_predict if n_predict else 0.0\n",
        "    R = n_correct/n_ground if n_ground else 0.0\n",
        "    F1 = (2*P*R)/(P+R) if P+R else 0.0\n",
        "    print(f\"Valiadation  P and R and F1 Epoch {epoch}: {P},{R}, {F1}\")\n",
        "    return epoch_loss"
      ],
      "execution_count": null,
      "outputs": []
    },
    {
      "cell_type": "code",
      "metadata": {
        "id": "royimMAtpjXs"
      },
      "source": [
        "# Run model.\n",
        "for epoch in range(EPOCHS):\n",
        "    train(epoch)\n",
        "    epoch_loss = valid(epoch,model, valid_loader)\n",
        "    torch.save(model,f\"/content/drive/MyDrive/task-1-semeval/scibert-class-A-{epoch}.pt\")"
      ],
      "execution_count": null,
      "outputs": []
    },
    {
      "cell_type": "markdown",
      "metadata": {
        "id": "lVld_fAOrf3g"
      },
      "source": [
        "# Test Inference"
      ]
    },
    {
      "cell_type": "code",
      "metadata": {
        "id": "bUKFDi9Yd8pD"
      },
      "source": [
        "from google.colab import drive\n",
        "drive.mount('/content/drive')"
      ],
      "execution_count": null,
      "outputs": []
    },
    {
      "cell_type": "code",
      "metadata": {
        "id": "mbDKVBkbpjac"
      },
      "source": [
        "# Ensure same settings which is used at the time of building model\n",
        "# import libraries\n",
        "!pip install -q transformers\n",
        "import transformers\n",
        "from transformers import AutoTokenizer, AutoModel\n",
        "\n",
        "tokenizer = AutoTokenizer.from_pretrained(\"allenai/scibert_scivocab_uncased\")\n",
        "import os\n",
        "import torch\n",
        "import numpy as np\n",
        "import time\n",
        "import random\n",
        "from torch import cuda\n",
        "device = 'cuda' if cuda.is_available() else 'cpu'\n",
        "seed_val = 66\n",
        "random.seed(seed_val)\n",
        "np.random.seed(seed_val)\n",
        "torch.manual_seed(seed_val)\n",
        "torch.cuda.manual_seed_all(seed_val)"
      ],
      "execution_count": null,
      "outputs": []
    },
    {
      "cell_type": "code",
      "metadata": {
        "id": "CfFPGGrDcoEs",
        "collapsed": true
      },
      "source": [
        "# Create a SciBERT + Bi-LSTM model for binary classification\n",
        "class SCIBERTClass(torch.nn.Module):\n",
        "    def __init__(self):\n",
        "        super(SCIBERTClass, self).__init__()\n",
        "        self.l1 = AutoModel.from_pretrained('allenai/scibert_scivocab_uncased',  output_hidden_states=True)\n",
        "        self.lstm = torch.nn.LSTM(768, 400, num_layers=2, batch_first = True, bidirectional=True)\n",
        "        self.l2 = torch.nn.Dropout(0.1)\n",
        "        self.l3 = torch.nn.Linear( 800, 400)\n",
        "        self.l4 = torch.nn.Linear(400,100) # check with layer with 30\n",
        "        self.l5 = torch.nn.Linear(100,2)\n",
        "    \n",
        "    def forward(self, ids, mask, token_type_ids, lengths):\n",
        "        encoded_layers = self.l1(ids, attention_mask = mask, token_type_ids = token_type_ids, return_dict=False)[2]\n",
        "        scibert_hidden_layer = encoded_layers[12]\n",
        "        enc_hiddens, (last_hidden, last_cell) = self.lstm(torch.nn.utils.rnn.pack_padded_sequence(scibert_hidden_layer, lengths, batch_first=True, enforce_sorted=False)) #enforce_sorted=False  #pack_padded_sequence(data and batch_sizes\n",
        "        output_hidden = torch.cat((last_hidden[0], last_hidden[1]), dim=1)  # (batch_size, 2*hidden_size)\n",
        "        output_hidden = self.l2(output_hidden)            # no size change\n",
        "        output_2 = self.l3(output_hidden)\n",
        "        output_2 = torch.nn.ReLU()(output_2)\n",
        "        output_4 = self.l4(output_2)\n",
        "        output_5 = self.l5(output_4)\n",
        "        return output_5\n",
        "\n",
        "model = SCIBERTClass()\n",
        "model.to(device)\n",
        "\n",
        "model = torch.load(\"/content/drive/MyDrive/task-1-semeval/scibert-class-A-1.pt\")\n",
        "model.eval()"
      ],
      "execution_count": null,
      "outputs": []
    },
    {
      "cell_type": "code",
      "metadata": {
        "id": "v21bQkmlcoHt"
      },
      "source": [
        "#%rm -r \"/content/drive/MyDrive/submission8/\"\n",
        "%mkdir \"/content/drive/MyDrive/output-subtask-A/\"\n",
        "output_dir = \"/content/drive/MyDrive/output-subtask-A/\""
      ],
      "execution_count": null,
      "outputs": []
    },
    {
      "cell_type": "code",
      "metadata": {
        "id": "hFkW0e_wozwW"
      },
      "source": [
        "%mkdir \"/content/drive/MyDrive/submission8/constituency_parsing\"\n",
        "%mkdir \"/content/drive/MyDrive/submission8/coreference_resolution\"\n",
        "%mkdir \"/content/drive/MyDrive/submission8/data-to-text_generation\"\n",
        "%mkdir \"/content/drive/MyDrive/submission8/dependency_parsing\"\n",
        "%mkdir \"/content/drive/MyDrive/submission8/document_classification\"\n",
        "%mkdir \"/content/drive/MyDrive/submission8/entity_linking\"\n",
        "%mkdir \"/content/drive/MyDrive/submission8/face_alignment\"\n",
        "%mkdir \"/content/drive/MyDrive/submission8/face_detection\"\n",
        "%mkdir \"/content/drive/MyDrive/submission8/hypernym_discovery\"\n",
        "%mkdir \"/content/drive/MyDrive/submission8/natural_language_inference\""
      ],
      "execution_count": null,
      "outputs": []
    },
    {
      "cell_type": "code",
      "metadata": {
        "id": "vDAV1r54ne28"
      },
      "source": [
        "# test data\n",
        "!git clone https://github.com/ncg-task/evaluation-phase1.git \"/content/test\""
      ],
      "execution_count": null,
      "outputs": []
    },
    {
      "cell_type": "code",
      "metadata": {
        "id": "NG1NCmiJreGt",
        "collapsed": true
      },
      "source": [
        "#####Testing dataset reading\n",
        "from shutil import copyfile\n",
        "test_input_dir = \"/content/test/\"\n",
        "test_list_of_folders = [\"constituency_parsing\",\"coreference_resolution\",\n",
        "                   \"data-to-text_generation\",\"dependency_parsing\",\n",
        "                   \"document_classification\",\"entity_linking\",\n",
        "                   \"face_alignment\",\"face_detection\", \"hypernym_discovery\",\n",
        "                   \"natural_language_inference\"]\n",
        "test_input_stanza_list = []\n",
        "test_file_name_list = []\n",
        "test_input_stanza_len = []\n",
        "MAX_LEN=100\n",
        "for fls in test_list_of_folders:\n",
        "  count=0\n",
        "  for i in os.listdir(test_input_dir + fls + '/'):\n",
        "    count=count+1\n",
        "    output_info_folder = os.path.join(output_dir,fls,str(i))\n",
        "    os.makedirs(output_info_folder)\n",
        "    for files in os.listdir(test_input_dir + fls + '/' + str(i)):\n",
        "      if files.endswith(\"Grobid-out.txt\"):\n",
        "        copyfile(test_input_dir + fls + '/' + str(i) + '/' + files, output_dir + fls + '/' + str(i) + '/' + files)\n",
        "      if files.endswith(\"Stanza-out.txt\"):\n",
        "        stanza_file = open(test_input_dir + fls + '/' + str(i) + '/' + files, \"r\")\n",
        "        copyfile(test_input_dir + fls + '/' + str(i) + '/' + files, output_dir + fls + '/' + str(i) + '/' + files)\n",
        "        stanza_lines = stanza_file.read()\n",
        "        stanza_lines_list = list(filter(None, map(lambda x:x.lower(),stanza_lines.splitlines()))) # filter empty strings and split into lines\n",
        "        test_input_stanza_len.append(len(stanza_lines_list))\n",
        "        test_input_stanza_list.append(stanza_lines_list)\n",
        "    print(\"size of file\",len(stanza_lines_list),fls+'/'+str(i))\n",
        "    with torch.no_grad():\n",
        "      output_file=open(os.path.join(output_info_folder, \"sentences.txt\"),\"a\")\n",
        "      if stanza_lines_list[1] != 'abstract':\n",
        "        output_file.write(str(2) +\"\\n\")\n",
        "      for t8 in range(2,len(stanza_lines_list)):\n",
        "        if (stanza_lines_list[t8]=='conclusion') or (stanza_lines_list[t8]=='conclusions'):\n",
        "          break\n",
        "        test_input = tokenizer.encode_plus(stanza_lines_list[t8], None, add_special_tokens=True, \n",
        "                                           max_length= MAX_LEN, pad_to_max_length=True, \n",
        "                                           return_token_type_ids=True, truncation=True, \n",
        "                                           return_length = True, return_tensors=\"pt\")\n",
        "        test_ids = test_input['input_ids'].to(device, dtype = torch.long)\n",
        "        test_mask = test_input['attention_mask'].to(device, dtype = torch.long)\n",
        "        test_token_type_ids = test_input['token_type_ids'].to(device, dtype = torch.long)\n",
        "        lengths = test_input['length']\n",
        "        outputs = model(test_ids, test_mask, test_token_type_ids, lengths)\n",
        "        _, output_idx = torch.max(outputs, dim =1)\n",
        "        t_output_class = output_idx.cpu().detach().numpy().tolist()\n",
        "        output_file=open(os.path.join(output_info_folder, \"sentences.txt\"),\"a\")\n",
        "        #writing the sentences.txt file showing contribution sentences\n",
        "        if t_output_class[0] == 1:\n",
        "          output_file.write(str(t8+1) +\"\\n\")\n",
        "    test_file_name_list.append(fls + '/' + str(i))\n",
        "  print(\"Test complete\",fls,count)"
      ],
      "execution_count": null,
      "outputs": []
    },
    {
      "cell_type": "code",
      "metadata": {
        "id": "-OTe_N7OWqY9"
      },
      "source": [
        ""
      ],
      "execution_count": null,
      "outputs": []
    }
  ]
}